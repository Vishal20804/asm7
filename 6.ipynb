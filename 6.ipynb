{
 "cells": [
  {
   "cell_type": "code",
   "execution_count": null,
   "id": "abc1cd55-747b-4ee2-aa0e-c53f57685583",
   "metadata": {},
   "outputs": [],
   "source": [
    "Ans:1\n",
    " The t-test is typically used when the sample size is small (usually less than 30) and the population standard deviation is unknown. On the other hand, the z-test is used when the sample size is large (typically greater than 30) or when the population standard deviation is known."
   ]
  },
  {
   "cell_type": "code",
   "execution_count": null,
   "id": "85afbf84-888a-4e0a-b68a-9eff09354c59",
   "metadata": {},
   "outputs": [],
   "source": [
    "Ans:2\n",
    "one-tailed test and a two-tailed test depends on the specific research question and the hypothesis being tested. A one-tailed test is appropriate when there is a specific directional expectation, while a two-tailed test is used when the interest lies in detecting any significant difference or effect, regardless of direction."
   ]
  },
  {
   "cell_type": "code",
   "execution_count": null,
   "id": "58315945-694c-4f64-b706-3ce684728298",
   "metadata": {},
   "outputs": [],
   "source": [
    "Ans:3\n",
    "Type 1 errors involve falsely rejecting a true null hypothesis, while Type 2 errors occur when a false null hypothesis is not rejected. Both types of errors can have important implications, and the choice of significance level (alpha) in hypothesis testing helps control the balance between these two types of errors."
   ]
  },
  {
   "cell_type": "code",
   "execution_count": null,
   "id": "8142bd68-0cca-45c3-b8a2-038fca4fded1",
   "metadata": {},
   "outputs": [],
   "source": [
    "Ans:4\n",
    "\n",
    "Bayes's theorem is a fundamental concept in probability theory that allows us to update our beliefs or probabilities about an event based on new evidence or information. It involves conditional probabilities and is named after the mathematician and philosopher Thomas Bayes.\n",
    "\n",
    "The theorem can be stated as follows:\n",
    "\n",
    "P(A|B) = (P(B|A) * P(A)) / P(B)"
   ]
  },
  {
   "cell_type": "code",
   "execution_count": null,
   "id": "d6677646-7bab-43b1-b585-a912f84ef492",
   "metadata": {},
   "outputs": [],
   "source": [
    "ans:5\n",
    "A confidence interval is a range of values that provides an estimate of the plausible range of values for an unknown population parameter. It quantifies the uncertainty associated with estimating the true parameter based on a sample"
   ]
  },
  {
   "cell_type": "code",
   "execution_count": null,
   "id": "9a21d9cf-4a2e-49f6-8831-e0e64bccf4e6",
   "metadata": {},
   "outputs": [],
   "source": [
    "Ans:6\n",
    "Bayes' theorem can be stated as:\n",
    "\n",
    "P(A|B) = (P(B|A) * P(A)) / P(B)\n",
    "\n",
    "Where:\n",
    "\n",
    "P(A|B) is the probability of event A occurring given that event B has occurred.\n",
    "P(B|A) is the probability of event B occurring given that event A has occurred.\n",
    "P(A) is the prior probability of event A.\n",
    "P(B) is the marginal probability of event B.\n",
    "\n"
   ]
  },
  {
   "cell_type": "code",
   "execution_count": null,
   "id": "5a288244-7eed-421b-9e2d-a23e0cc3fa54",
   "metadata": {},
   "outputs": [],
   "source": [
    "Ans:7\n",
    "Since the sample size is not specified in your question, I will assume a sample size of 30 for demonstration purposes. Feel free to adjust the calculations based on your specific sample size.\n",
    "\n",
    "Standard Error = 5 / √(30)\n",
    "≈ 0.9129\n",
    "\n",
    "Now we can calculate the confidence interval:\n",
    "\n",
    "Confidence Interval = 50 ± (1.96 * 0.9129)\n",
    "≈ 50 ± 1.7912\n",
    "≈ (48.2088, 51.7912)"
   ]
  },
  {
   "cell_type": "code",
   "execution_count": null,
   "id": "3eaae795-7879-44ed-a3c7-34fea8bdb219",
   "metadata": {},
   "outputs": [],
   "source": [
    "Ans:8\n",
    "\n",
    "The margin of error in a confidence interval represents the maximum expected difference between the point estimate (such as the sample mean or proportion) and the true population parameter. It quantifies the precision or uncertainty of the estimate and is typically expressed as a range.\n",
    "Let's consider a scenario where you want to estimate the proportion of people in a city who support a particular policy. You take a sample of 100 individuals and find that 70 of them support the policy. You calculate the proportion estimate as 70/100 = 0.7 or 70%.\n",
    "\n",
    "Now, suppose you want to construct a 95% confidence interval for the population proportion. To calculate the margin of error, you need to consider the sample size and the critical value based on the desired confidence level.\n",
    "\n",
    "If you increase the sample size to, let's say, 500 individuals, and assume the proportion of support remains the same (70%), you would have a larger sample size. Consequently, the standard error decreases, and the critical value remains unchanged for a given confidence level."
   ]
  },
  {
   "cell_type": "code",
   "execution_count": null,
   "id": "39d15291-a781-45b8-b6c3-3249308e8f4e",
   "metadata": {},
   "outputs": [],
   "source": [
    "Ans:9\n",
    "Substituting the values into the formula:\n",
    "\n",
    "z = (75 - 70) / 5\n",
    "= 5 / 5\n",
    "= 1\n",
    "\n",
    "The resulting z-score is 1."
   ]
  }
 ],
 "metadata": {
  "kernelspec": {
   "display_name": "Python 3 (ipykernel)",
   "language": "python",
   "name": "python3"
  },
  "language_info": {
   "codemirror_mode": {
    "name": "ipython",
    "version": 3
   },
   "file_extension": ".py",
   "mimetype": "text/x-python",
   "name": "python",
   "nbconvert_exporter": "python",
   "pygments_lexer": "ipython3",
   "version": "3.10.8"
  }
 },
 "nbformat": 4,
 "nbformat_minor": 5
}
